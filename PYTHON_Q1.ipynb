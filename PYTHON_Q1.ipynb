{
  "nbformat": 4,
  "nbformat_minor": 0,
  "metadata": {
    "colab": {
      "provenance": [],
      "authorship_tag": "ABX9TyPptXRGpioI2HFemBF/rbjZ",
      "include_colab_link": true
    },
    "kernelspec": {
      "name": "python3",
      "display_name": "Python 3"
    },
    "language_info": {
      "name": "python"
    }
  },
  "cells": [
    {
      "cell_type": "markdown",
      "metadata": {
        "id": "view-in-github",
        "colab_type": "text"
      },
      "source": [
        "<a href=\"https://colab.research.google.com/github/snehargha6666/WEEK-2/blob/main/PYTHON_Q1.ipynb\" target=\"_parent\"><img src=\"https://colab.research.google.com/assets/colab-badge.svg\" alt=\"Open In Colab\"/></a>"
      ]
    },
    {
      "cell_type": "code",
      "execution_count": 2,
      "metadata": {
        "colab": {
          "base_uri": "https://localhost:8080/"
        },
        "id": "e9c6_Prkmcb2",
        "outputId": "1cc5e2fe-d6b3-4e81-cd4c-a83990c3a17f"
      },
      "outputs": [
        {
          "output_type": "stream",
          "name": "stdout",
          "text": [
            "3\n",
            "4\n",
            "1 2 3 4\n",
            "5 6 7 8\n",
            "9 10 11 12\n",
            "[1, 2, 3, 4, 8, 12, 11, 10, 9, 5, 6, 7]\n"
          ]
        }
      ],
      "source": [
        "def spiralOrder(matrix):\n",
        "    result = []\n",
        "    if not matrix:\n",
        "        return result\n",
        "    top, bottom = 0, len(matrix) - 1\n",
        "    left, right = 0, len(matrix[0]) - 1\n",
        "    while top <= bottom and left <= right:\n",
        "        for i in range(left, right + 1):\n",
        "            result.append(matrix[top][i])\n",
        "        top += 1\n",
        "        for i in range(top, bottom + 1):\n",
        "            result.append(matrix[i][right])\n",
        "        right -= 1\n",
        "        if top <= bottom:\n",
        "            for i in range(right, left - 1, -1):\n",
        "                result.append(matrix[bottom][i])\n",
        "            bottom -= 1\n",
        "        if left <= right:\n",
        "            for i in range(bottom, top - 1, -1):\n",
        "                result.append(matrix[i][left])\n",
        "            left += 1\n",
        "    return result\n",
        "\n",
        "r = int(input())\n",
        "c = int(input())\n",
        "matrix = []\n",
        "for _ in range(r):\n",
        "    matrix.append(list(map(int, input().split())))\n",
        "print(spiralOrder(matrix))"
      ]
    }
  ]
}