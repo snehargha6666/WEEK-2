{
  "nbformat": 4,
  "nbformat_minor": 0,
  "metadata": {
    "colab": {
      "provenance": [],
      "authorship_tag": "ABX9TyOQCU6FqL98VCwBCzRLwvx8",
      "include_colab_link": true
    },
    "kernelspec": {
      "name": "python3",
      "display_name": "Python 3"
    },
    "language_info": {
      "name": "python"
    }
  },
  "cells": [
    {
      "cell_type": "markdown",
      "metadata": {
        "id": "view-in-github",
        "colab_type": "text"
      },
      "source": [
        "<a href=\"https://colab.research.google.com/github/snehargha6666/WEEK-2/blob/main/PYTHON_Q4.ipynb\" target=\"_parent\"><img src=\"https://colab.research.google.com/assets/colab-badge.svg\" alt=\"Open In Colab\"/></a>"
      ]
    },
    {
      "cell_type": "code",
      "execution_count": 5,
      "metadata": {
        "colab": {
          "base_uri": "https://localhost:8080/"
        },
        "id": "e9c6_Prkmcb2",
        "outputId": "3ca96b6b-935d-40c2-d99e-586b9fee62c5"
      },
      "outputs": [
        {
          "output_type": "stream",
          "name": "stdout",
          "text": [
            "2\n",
            "3\n",
            "1 2 3\n",
            "4 5 6\n",
            "1 4\n",
            "2 5\n",
            "3 6\n"
          ]
        }
      ],
      "source": [
        "def transpose(matrix):\n",
        "    rows = len(matrix)\n",
        "    cols = len(matrix[0])\n",
        "    result = [[0] * rows for _ in range(cols)]\n",
        "    for i in range(rows):\n",
        "        for j in range(cols):\n",
        "            result[j][i] = matrix[i][j]\n",
        "    return result\n",
        "\n",
        "r = int(input())\n",
        "c = int(input())\n",
        "matrix = []\n",
        "for _ in range(r):\n",
        "    matrix.append(list(map(int, input().split())))\n",
        "transposed = transpose(matrix)\n",
        "for row in transposed:\n",
        "    print(*row)\n"
      ]
    }
  ]
}