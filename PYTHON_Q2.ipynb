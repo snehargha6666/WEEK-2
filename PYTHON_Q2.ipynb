{
  "nbformat": 4,
  "nbformat_minor": 0,
  "metadata": {
    "colab": {
      "provenance": [],
      "authorship_tag": "ABX9TyOBTzPGm4AOLeRzJRhO2FA7",
      "include_colab_link": true
    },
    "kernelspec": {
      "name": "python3",
      "display_name": "Python 3"
    },
    "language_info": {
      "name": "python"
    }
  },
  "cells": [
    {
      "cell_type": "markdown",
      "metadata": {
        "id": "view-in-github",
        "colab_type": "text"
      },
      "source": [
        "<a href=\"https://colab.research.google.com/github/snehargha6666/WEEK-2/blob/main/PYTHON_Q2.ipynb\" target=\"_parent\"><img src=\"https://colab.research.google.com/assets/colab-badge.svg\" alt=\"Open In Colab\"/></a>"
      ]
    },
    {
      "cell_type": "code",
      "execution_count": 3,
      "metadata": {
        "colab": {
          "base_uri": "https://localhost:8080/"
        },
        "id": "e9c6_Prkmcb2",
        "outputId": "b0d490e3-f18e-452b-8204-2a2594446856"
      },
      "outputs": [
        {
          "output_type": "stream",
          "name": "stdout",
          "text": [
            "3\n",
            "3\n",
            "1 2 3\n",
            "4 5 6\n",
            "7 8 9\n",
            "7 4 1\n",
            "8 5 2\n",
            "9 6 3\n"
          ]
        }
      ],
      "source": [
        "def rotate90(matrix):\n",
        "    n = len(matrix)\n",
        "    m = len(matrix[0])\n",
        "    rotated = [[0] * n for _ in range(m)]\n",
        "    for i in range(n):\n",
        "        for j in range(m):\n",
        "            rotated[j][n - 1 - i] = matrix[i][j]\n",
        "    return rotated\n",
        "\n",
        "r = int(input())\n",
        "c = int(input())\n",
        "matrix = []\n",
        "for _ in range(r):\n",
        "    matrix.append(list(map(int, input().split())))\n",
        "rotated = rotate90(matrix)\n",
        "for row in rotated:\n",
        "    print(*row)"
      ]
    }
  ]
}