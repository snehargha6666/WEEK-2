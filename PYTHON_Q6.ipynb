{
  "nbformat": 4,
  "nbformat_minor": 0,
  "metadata": {
    "colab": {
      "provenance": [],
      "authorship_tag": "ABX9TyMJZmhCrlGheXANKVEHtx2U",
      "include_colab_link": true
    },
    "kernelspec": {
      "name": "python3",
      "display_name": "Python 3"
    },
    "language_info": {
      "name": "python"
    }
  },
  "cells": [
    {
      "cell_type": "markdown",
      "metadata": {
        "id": "view-in-github",
        "colab_type": "text"
      },
      "source": [
        "<a href=\"https://colab.research.google.com/github/snehargha6666/WEEK-2/blob/main/PYTHON_Q6.ipynb\" target=\"_parent\"><img src=\"https://colab.research.google.com/assets/colab-badge.svg\" alt=\"Open In Colab\"/></a>"
      ]
    },
    {
      "cell_type": "code",
      "execution_count": 7,
      "metadata": {
        "colab": {
          "base_uri": "https://localhost:8080/"
        },
        "id": "e9c6_Prkmcb2",
        "outputId": "3679f4b9-8ad0-4e31-a29a-8e4193299410"
      },
      "outputs": [
        {
          "output_type": "stream",
          "name": "stdout",
          "text": [
            "3\n",
            "3 2\n",
            "5 1\n",
            "6 0\n",
            "2\n",
            "4 1\n",
            "2 0\n",
            "3x^2 + 9x + 8\n"
          ]
        }
      ],
      "source": [
        "def addPolynomials(p1, p2):\n",
        "    result = {}\n",
        "    for exp in p1:\n",
        "        result[exp] = p1[exp]\n",
        "    for exp in p2:\n",
        "        if exp in result:\n",
        "            result[exp] += p2[exp]\n",
        "        else:\n",
        "            result[exp] = p2[exp]\n",
        "    return result\n",
        "\n",
        "def printPolynomial(poly):\n",
        "    terms = []\n",
        "    for exp in sorted(poly.keys(), reverse=True):\n",
        "        coeff = poly[exp]\n",
        "        if coeff != 0:\n",
        "            if exp == 0:\n",
        "                terms.append(str(coeff))\n",
        "            elif exp == 1:\n",
        "                terms.append(f\"{coeff}x\")\n",
        "            else:\n",
        "                terms.append(f\"{coeff}x^{exp}\")\n",
        "    print(\" + \".join(terms) if terms else \"0\")\n",
        "\n",
        "n = int(input())\n",
        "p1 = {}\n",
        "for _ in range(n):\n",
        "    coeff, exp = map(int, input().split())\n",
        "    p1[exp] = coeff\n",
        "\n",
        "m = int(input())\n",
        "p2 = {}\n",
        "for _ in range(m):\n",
        "    coeff, exp = map(int, input().split())\n",
        "    p2[exp] = coeff\n",
        "\n",
        "sum_poly = addPolynomials(p1, p2)\n",
        "printPolynomial(sum_poly)\n"
      ]
    }
  ]
}