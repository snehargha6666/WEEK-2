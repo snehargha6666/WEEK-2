{
  "nbformat": 4,
  "nbformat_minor": 0,
  "metadata": {
    "colab": {
      "provenance": [],
      "authorship_tag": "ABX9TyOJrrYeofFP7sXZQTbkfNxH",
      "include_colab_link": true
    },
    "kernelspec": {
      "name": "python3",
      "display_name": "Python 3"
    },
    "language_info": {
      "name": "python"
    }
  },
  "cells": [
    {
      "cell_type": "markdown",
      "metadata": {
        "id": "view-in-github",
        "colab_type": "text"
      },
      "source": [
        "<a href=\"https://colab.research.google.com/github/snehargha6666/WEEK-2/blob/main/PYTHON_Q9.ipynb\" target=\"_parent\"><img src=\"https://colab.research.google.com/assets/colab-badge.svg\" alt=\"Open In Colab\"/></a>"
      ]
    },
    {
      "cell_type": "code",
      "execution_count": 13,
      "metadata": {
        "colab": {
          "base_uri": "https://localhost:8080/"
        },
        "id": "e9c6_Prkmcb2",
        "outputId": "4d52f633-862b-4a6c-eefb-9daf322411aa"
      },
      "outputs": [
        {
          "output_type": "stream",
          "name": "stdout",
          "text": [
            "3\n",
            "3\n",
            "1 0 0\n",
            "0 1 0\n",
            "0 0 1\n",
            "Identity Matrix\n"
          ]
        }
      ],
      "source": [
        "def isIdentity(matrix):\n",
        "    n = len(matrix)\n",
        "    for i in range(n):\n",
        "        for j in range(n):\n",
        "            if i == j and matrix[i][j] != 1:\n",
        "                return False\n",
        "            elif i != j and matrix[i][j] != 0:\n",
        "                return False\n",
        "    return True\n",
        "\n",
        "r = int(input())\n",
        "c = int(input())\n",
        "matrix = []\n",
        "for _ in range(r):\n",
        "    matrix.append(list(map(int, input().split())))\n",
        "\n",
        "if r != c:\n",
        "    print(\"Not a square matrix\")\n",
        "elif isIdentity(matrix):\n",
        "    print(\"Identity Matrix\")\n",
        "else:\n",
        "    print(\"Not an Identity Matrix\")\n"
      ]
    }
  ]
}