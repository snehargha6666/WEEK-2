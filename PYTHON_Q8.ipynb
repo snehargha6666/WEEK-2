{
  "nbformat": 4,
  "nbformat_minor": 0,
  "metadata": {
    "colab": {
      "provenance": [],
      "authorship_tag": "ABX9TyN97dTnjlkN9Zxuh7M8Pnsl",
      "include_colab_link": true
    },
    "kernelspec": {
      "name": "python3",
      "display_name": "Python 3"
    },
    "language_info": {
      "name": "python"
    }
  },
  "cells": [
    {
      "cell_type": "markdown",
      "metadata": {
        "id": "view-in-github",
        "colab_type": "text"
      },
      "source": [
        "<a href=\"https://colab.research.google.com/github/snehargha6666/WEEK-2/blob/main/PYTHON_Q8.ipynb\" target=\"_parent\"><img src=\"https://colab.research.google.com/assets/colab-badge.svg\" alt=\"Open In Colab\"/></a>"
      ]
    },
    {
      "cell_type": "code",
      "execution_count": 11,
      "metadata": {
        "colab": {
          "base_uri": "https://localhost:8080/"
        },
        "id": "e9c6_Prkmcb2",
        "outputId": "6666fe8a-7c45-4318-9f54-8aa130789106"
      },
      "outputs": [
        {
          "name": "stdout",
          "output_type": "stream",
          "text": [
            "\n",
            "1. Insert Element\n",
            "2. Delete Element\n",
            "3. Search Element\n",
            "4. Display Array\n",
            "5. Exit\n",
            "Enter choice: 2\n",
            "Enter value to delete: 5\n",
            "Deleted.\n",
            "\n",
            "1. Insert Element\n",
            "2. Delete Element\n",
            "3. Search Element\n",
            "4. Display Array\n",
            "5. Exit\n",
            "Enter choice: 3\n",
            "Enter value to search: 7\n",
            "Element found at index 5.\n",
            "\n",
            "1. Insert Element\n",
            "2. Delete Element\n",
            "3. Search Element\n",
            "4. Display Array\n",
            "5. Exit\n",
            "Enter choice: 4\n",
            "Array: [1, 2, 3, 4, 6, 7, 8, 9]\n",
            "\n",
            "1. Insert Element\n",
            "2. Delete Element\n",
            "3. Search Element\n",
            "4. Display Array\n",
            "5. Exit\n",
            "Enter choice: 5\n"
          ]
        }
      ],
      "source": [
        "arr = [1, 2, 3, 4, 5, 6, 7, 8, 9]\n",
        "\n",
        "while True:\n",
        "    print(\"\\n1. Insert Element\")\n",
        "    print(\"2. Delete Element\")\n",
        "    print(\"3. Search Element\")\n",
        "    print(\"4. Display Array\")\n",
        "    print(\"5. Exit\")\n",
        "    choice = int(input(\"Enter choice: \"))\n",
        "\n",
        "    if choice == 1:\n",
        "        val = int(input(\"Enter value to insert: \"))\n",
        "        arr.append(val)\n",
        "        print(\"Inserted.\")\n",
        "\n",
        "    elif choice == 2:\n",
        "        val = int(input(\"Enter value to delete: \"))\n",
        "        if val in arr:\n",
        "            arr.remove(val)\n",
        "            print(\"Deleted.\")\n",
        "        else:\n",
        "            print(\"Element not found.\")\n",
        "\n",
        "    elif choice == 3:\n",
        "        val = int(input(\"Enter value to search: \"))\n",
        "        if val in arr:\n",
        "            print(f\"Element found at index {arr.index(val)}.\")\n",
        "        else:\n",
        "            print(\"Element not found.\")\n",
        "\n",
        "    elif choice == 4:\n",
        "        print(\"Array:\", arr)\n",
        "\n",
        "    elif choice == 5:\n",
        "        break\n",
        "\n",
        "    else:\n",
        "        print(\"Invalid choice.\")\n"
      ]
    }
  ]
}