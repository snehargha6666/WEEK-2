{
  "nbformat": 4,
  "nbformat_minor": 0,
  "metadata": {
    "colab": {
      "provenance": [],
      "authorship_tag": "ABX9TyOJJ9ZfXI+gWPGTyzsHRRx3",
      "include_colab_link": true
    },
    "kernelspec": {
      "name": "python3",
      "display_name": "Python 3"
    },
    "language_info": {
      "name": "python"
    }
  },
  "cells": [
    {
      "cell_type": "markdown",
      "metadata": {
        "id": "view-in-github",
        "colab_type": "text"
      },
      "source": [
        "<a href=\"https://colab.research.google.com/github/snehargha6666/WEEK-2/blob/main/PYTHON_Q3.ipynb\" target=\"_parent\"><img src=\"https://colab.research.google.com/assets/colab-badge.svg\" alt=\"Open In Colab\"/></a>"
      ]
    },
    {
      "cell_type": "code",
      "execution_count": 8,
      "metadata": {
        "colab": {
          "base_uri": "https://localhost:8080/"
        },
        "id": "e9c6_Prkmcb2",
        "outputId": "a7992b05-0ac8-4494-cabc-d95268b73b7a"
      },
      "outputs": [
        {
          "output_type": "stream",
          "name": "stdout",
          "text": [
            "3\n",
            "3\n",
            "1 2 3\n",
            "4 5 6\n",
            "7 8 9\n",
            "25\n"
          ]
        }
      ],
      "source": [
        "def diagonalSum(matrix):\n",
        "    n = len(matrix)\n",
        "    total = 0\n",
        "    for i in range(n):\n",
        "        total += matrix[i][i]\n",
        "        if i != n - 1 - i:\n",
        "            total += matrix[i][n - 1 - i]\n",
        "    return total\n",
        "\n",
        "r = int(input())\n",
        "c = int(input())\n",
        "matrix = []\n",
        "for _ in range(r):\n",
        "    matrix.append(list(map(int, input().split())))\n",
        "if r == c:\n",
        "    print(diagonalSum(matrix))\n",
        "else:\n",
        "    print(\"Not a square matrix\")\n"
      ]
    }
  ]
}