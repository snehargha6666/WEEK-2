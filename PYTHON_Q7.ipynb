{
  "nbformat": 4,
  "nbformat_minor": 0,
  "metadata": {
    "colab": {
      "provenance": [],
      "authorship_tag": "ABX9TyOgXoPg3koEB6kKBmxZqoEf",
      "include_colab_link": true
    },
    "kernelspec": {
      "name": "python3",
      "display_name": "Python 3"
    },
    "language_info": {
      "name": "python"
    }
  },
  "cells": [
    {
      "cell_type": "markdown",
      "metadata": {
        "id": "view-in-github",
        "colab_type": "text"
      },
      "source": [
        "<a href=\"https://colab.research.google.com/github/snehargha6666/WEEK-2/blob/main/PYTHON_Q7.ipynb\" target=\"_parent\"><img src=\"https://colab.research.google.com/assets/colab-badge.svg\" alt=\"Open In Colab\"/></a>"
      ]
    },
    {
      "cell_type": "code",
      "execution_count": 9,
      "metadata": {
        "colab": {
          "base_uri": "https://localhost:8080/"
        },
        "id": "e9c6_Prkmcb2",
        "outputId": "7f93c55e-c0f0-4375-d70d-8550552c1c0e"
      },
      "outputs": [
        {
          "output_type": "stream",
          "name": "stdout",
          "text": [
            "2\n",
            "2 1\n",
            "3 0\n",
            "2\n",
            "4 1\n",
            "1 0\n",
            "8x^2 + 14x + 3\n"
          ]
        }
      ],
      "source": [
        "def multiplyPolynomials(p1, p2):\n",
        "    result = {}\n",
        "    for exp1 in p1:\n",
        "        for exp2 in p2:\n",
        "            new_exp = exp1 + exp2\n",
        "            new_coeff = p1[exp1] * p2[exp2]\n",
        "            if new_exp in result:\n",
        "                result[new_exp] += new_coeff\n",
        "            else:\n",
        "                result[new_exp] = new_coeff\n",
        "    return result\n",
        "\n",
        "def printPolynomial(poly):\n",
        "    terms = []\n",
        "    for exp in sorted(poly.keys(), reverse=True):\n",
        "        coeff = poly[exp]\n",
        "        if coeff != 0:\n",
        "            if exp == 0:\n",
        "                terms.append(str(coeff))\n",
        "            elif exp == 1:\n",
        "                terms.append(f\"{coeff}x\")\n",
        "            else:\n",
        "                terms.append(f\"{coeff}x^{exp}\")\n",
        "    print(\" + \".join(terms) if terms else \"0\")\n",
        "\n",
        "n = int(input())\n",
        "p1 = {}\n",
        "for _ in range(n):\n",
        "    coeff, exp = map(int, input().split())\n",
        "    p1[exp] = coeff\n",
        "\n",
        "m = int(input())\n",
        "p2 = {}\n",
        "for _ in range(m):\n",
        "    coeff, exp = map(int, input().split())\n",
        "    p2[exp] = coeff\n",
        "\n",
        "product = multiplyPolynomials(p1, p2)\n",
        "printPolynomial(product)\n"
      ]
    }
  ]
}